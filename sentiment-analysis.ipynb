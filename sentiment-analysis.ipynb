{
 "cells": [
  {
   "cell_type": "code",
   "execution_count": 11,
   "metadata": {},
   "outputs": [
    {
     "name": "stdout",
     "output_type": "stream",
     "text": [
      "Requirement already satisfied: tensorflow in e:\\file kerja\\work\\ai stuffs\\project-1\\venv\\lib\\site-packages (2.11.0)\n",
      "Requirement already satisfied: matplotlib in e:\\file kerja\\work\\ai stuffs\\project-1\\venv\\lib\\site-packages (3.5.3)\n",
      "Requirement already satisfied: numpy in e:\\file kerja\\work\\ai stuffs\\project-1\\venv\\lib\\site-packages (1.21.6)\n",
      "Collecting pandas\n",
      "  Downloading pandas-1.3.5-cp37-cp37m-win_amd64.whl (10.0 MB)\n",
      "Requirement already satisfied: tensorflow-intel==2.11.0; platform_system == \"Windows\" in e:\\file kerja\\work\\ai stuffs\\project-1\\venv\\lib\\site-packages (from tensorflow) (2.11.0)\n",
      "Requirement already satisfied: fonttools>=4.22.0 in e:\\file kerja\\work\\ai stuffs\\project-1\\venv\\lib\\site-packages (from matplotlib) (4.38.0)\n",
      "Requirement already satisfied: cycler>=0.10 in e:\\file kerja\\work\\ai stuffs\\project-1\\venv\\lib\\site-packages (from matplotlib) (0.11.0)\n",
      "Requirement already satisfied: python-dateutil>=2.7 in e:\\file kerja\\work\\ai stuffs\\project-1\\venv\\lib\\site-packages (from matplotlib) (2.9.0.post0)\n",
      "Requirement already satisfied: pyparsing>=2.2.1 in e:\\file kerja\\work\\ai stuffs\\project-1\\venv\\lib\\site-packages (from matplotlib) (3.1.4)\n",
      "Requirement already satisfied: kiwisolver>=1.0.1 in e:\\file kerja\\work\\ai stuffs\\project-1\\venv\\lib\\site-packages (from matplotlib) (1.4.5)\n",
      "Requirement already satisfied: packaging>=20.0 in e:\\file kerja\\work\\ai stuffs\\project-1\\venv\\lib\\site-packages (from matplotlib) (24.0)\n",
      "Requirement already satisfied: pillow>=6.2.0 in e:\\file kerja\\work\\ai stuffs\\project-1\\venv\\lib\\site-packages (from matplotlib) (9.5.0)\n",
      "Collecting pytz>=2017.3\n",
      "  Downloading pytz-2024.2-py2.py3-none-any.whl (508 kB)\n",
      "Requirement already satisfied: gast<=0.4.0,>=0.2.1 in e:\\file kerja\\work\\ai stuffs\\project-1\\venv\\lib\\site-packages (from tensorflow-intel==2.11.0; platform_system == \"Windows\"->tensorflow) (0.4.0)\n",
      "Requirement already satisfied: six>=1.12.0 in e:\\file kerja\\work\\ai stuffs\\project-1\\venv\\lib\\site-packages (from tensorflow-intel==2.11.0; platform_system == \"Windows\"->tensorflow) (1.17.0)\n",
      "Requirement already satisfied: absl-py>=1.0.0 in e:\\file kerja\\work\\ai stuffs\\project-1\\venv\\lib\\site-packages (from tensorflow-intel==2.11.0; platform_system == \"Windows\"->tensorflow) (2.1.0)\n",
      "Requirement already satisfied: flatbuffers>=2.0 in e:\\file kerja\\work\\ai stuffs\\project-1\\venv\\lib\\site-packages (from tensorflow-intel==2.11.0; platform_system == \"Windows\"->tensorflow) (25.1.21)\n",
      "Requirement already satisfied: google-pasta>=0.1.1 in e:\\file kerja\\work\\ai stuffs\\project-1\\venv\\lib\\site-packages (from tensorflow-intel==2.11.0; platform_system == \"Windows\"->tensorflow) (0.2.0)\n",
      "Requirement already satisfied: termcolor>=1.1.0 in e:\\file kerja\\work\\ai stuffs\\project-1\\venv\\lib\\site-packages (from tensorflow-intel==2.11.0; platform_system == \"Windows\"->tensorflow) (2.3.0)\n",
      "Requirement already satisfied: tensorboard<2.12,>=2.11 in e:\\file kerja\\work\\ai stuffs\\project-1\\venv\\lib\\site-packages (from tensorflow-intel==2.11.0; platform_system == \"Windows\"->tensorflow) (2.11.2)\n",
      "Requirement already satisfied: typing-extensions>=3.6.6 in e:\\file kerja\\work\\ai stuffs\\project-1\\venv\\lib\\site-packages (from tensorflow-intel==2.11.0; platform_system == \"Windows\"->tensorflow) (4.7.1)\n",
      "Requirement already satisfied: grpcio<2.0,>=1.24.3 in e:\\file kerja\\work\\ai stuffs\\project-1\\venv\\lib\\site-packages (from tensorflow-intel==2.11.0; platform_system == \"Windows\"->tensorflow) (1.62.3)\n",
      "Requirement already satisfied: keras<2.12,>=2.11.0 in e:\\file kerja\\work\\ai stuffs\\project-1\\venv\\lib\\site-packages (from tensorflow-intel==2.11.0; platform_system == \"Windows\"->tensorflow) (2.11.0)\n",
      "Requirement already satisfied: astunparse>=1.6.0 in e:\\file kerja\\work\\ai stuffs\\project-1\\venv\\lib\\site-packages (from tensorflow-intel==2.11.0; platform_system == \"Windows\"->tensorflow) (1.6.3)\n",
      "Requirement already satisfied: wrapt>=1.11.0 in e:\\file kerja\\work\\ai stuffs\\project-1\\venv\\lib\\site-packages (from tensorflow-intel==2.11.0; platform_system == \"Windows\"->tensorflow) (1.16.0)\n",
      "Requirement already satisfied: protobuf<3.20,>=3.9.2 in e:\\file kerja\\work\\ai stuffs\\project-1\\venv\\lib\\site-packages (from tensorflow-intel==2.11.0; platform_system == \"Windows\"->tensorflow) (3.19.6)\n",
      "Requirement already satisfied: opt-einsum>=2.3.2 in e:\\file kerja\\work\\ai stuffs\\project-1\\venv\\lib\\site-packages (from tensorflow-intel==2.11.0; platform_system == \"Windows\"->tensorflow) (3.3.0)\n",
      "Requirement already satisfied: tensorflow-estimator<2.12,>=2.11.0 in e:\\file kerja\\work\\ai stuffs\\project-1\\venv\\lib\\site-packages (from tensorflow-intel==2.11.0; platform_system == \"Windows\"->tensorflow) (2.11.0)\n",
      "Requirement already satisfied: tensorflow-io-gcs-filesystem>=0.23.1; platform_machine != \"arm64\" or platform_system != \"Darwin\" in e:\\file kerja\\work\\ai stuffs\\project-1\\venv\\lib\\site-packages (from tensorflow-intel==2.11.0; platform_system == \"Windows\"->tensorflow) (0.31.0)\n",
      "Requirement already satisfied: h5py>=2.9.0 in e:\\file kerja\\work\\ai stuffs\\project-1\\venv\\lib\\site-packages (from tensorflow-intel==2.11.0; platform_system == \"Windows\"->tensorflow) (3.8.0)\n",
      "Requirement already satisfied: libclang>=13.0.0 in e:\\file kerja\\work\\ai stuffs\\project-1\\venv\\lib\\site-packages (from tensorflow-intel==2.11.0; platform_system == \"Windows\"->tensorflow) (18.1.1)\n",
      "Requirement already satisfied: setuptools in e:\\file kerja\\work\\ai stuffs\\project-1\\venv\\lib\\site-packages (from tensorflow-intel==2.11.0; platform_system == \"Windows\"->tensorflow) (47.1.0)\n",
      "Requirement already satisfied: google-auth-oauthlib<0.5,>=0.4.1 in e:\\file kerja\\work\\ai stuffs\\project-1\\venv\\lib\\site-packages (from tensorboard<2.12,>=2.11->tensorflow-intel==2.11.0; platform_system == \"Windows\"->tensorflow) (0.4.6)\n",
      "Requirement already satisfied: wheel>=0.26 in e:\\file kerja\\work\\ai stuffs\\project-1\\venv\\lib\\site-packages (from tensorboard<2.12,>=2.11->tensorflow-intel==2.11.0; platform_system == \"Windows\"->tensorflow) (0.42.0)\n",
      "Requirement already satisfied: requests<3,>=2.21.0 in e:\\file kerja\\work\\ai stuffs\\project-1\\venv\\lib\\site-packages (from tensorboard<2.12,>=2.11->tensorflow-intel==2.11.0; platform_system == \"Windows\"->tensorflow) (2.31.0)\n",
      "Requirement already satisfied: werkzeug>=1.0.1 in e:\\file kerja\\work\\ai stuffs\\project-1\\venv\\lib\\site-packages (from tensorboard<2.12,>=2.11->tensorflow-intel==2.11.0; platform_system == \"Windows\"->tensorflow) (2.2.3)\n",
      "Requirement already satisfied: google-auth<3,>=1.6.3 in e:\\file kerja\\work\\ai stuffs\\project-1\\venv\\lib\\site-packages (from tensorboard<2.12,>=2.11->tensorflow-intel==2.11.0; platform_system == \"Windows\"->tensorflow) (2.38.0)\n",
      "Requirement already satisfied: tensorboard-plugin-wit>=1.6.0 in e:\\file kerja\\work\\ai stuffs\\project-1\\venv\\lib\\site-packages (from tensorboard<2.12,>=2.11->tensorflow-intel==2.11.0; platform_system == \"Windows\"->tensorflow) (1.8.1)\n",
      "Requirement already satisfied: tensorboard-data-server<0.7.0,>=0.6.0 in e:\\file kerja\\work\\ai stuffs\\project-1\\venv\\lib\\site-packages (from tensorboard<2.12,>=2.11->tensorflow-intel==2.11.0; platform_system == \"Windows\"->tensorflow) (0.6.1)\n",
      "Requirement already satisfied: markdown>=2.6.8 in e:\\file kerja\\work\\ai stuffs\\project-1\\venv\\lib\\site-packages (from tensorboard<2.12,>=2.11->tensorflow-intel==2.11.0; platform_system == \"Windows\"->tensorflow) (3.4.4)\n",
      "Requirement already satisfied: requests-oauthlib>=0.7.0 in e:\\file kerja\\work\\ai stuffs\\project-1\\venv\\lib\\site-packages (from google-auth-oauthlib<0.5,>=0.4.1->tensorboard<2.12,>=2.11->tensorflow-intel==2.11.0; platform_system == \"Windows\"->tensorflow) (2.0.0)\n",
      "Requirement already satisfied: idna<4,>=2.5 in e:\\file kerja\\work\\ai stuffs\\project-1\\venv\\lib\\site-packages (from requests<3,>=2.21.0->tensorboard<2.12,>=2.11->tensorflow-intel==2.11.0; platform_system == \"Windows\"->tensorflow) (3.10)\n",
      "Requirement already satisfied: certifi>=2017.4.17 in e:\\file kerja\\work\\ai stuffs\\project-1\\venv\\lib\\site-packages (from requests<3,>=2.21.0->tensorboard<2.12,>=2.11->tensorflow-intel==2.11.0; platform_system == \"Windows\"->tensorflow) (2024.12.14)\n",
      "Requirement already satisfied: charset-normalizer<4,>=2 in e:\\file kerja\\work\\ai stuffs\\project-1\\venv\\lib\\site-packages (from requests<3,>=2.21.0->tensorboard<2.12,>=2.11->tensorflow-intel==2.11.0; platform_system == \"Windows\"->tensorflow) (3.4.1)\n",
      "Requirement already satisfied: urllib3<3,>=1.21.1 in e:\\file kerja\\work\\ai stuffs\\project-1\\venv\\lib\\site-packages (from requests<3,>=2.21.0->tensorboard<2.12,>=2.11->tensorflow-intel==2.11.0; platform_system == \"Windows\"->tensorflow) (2.0.7)\n",
      "Requirement already satisfied: MarkupSafe>=2.1.1 in e:\\file kerja\\work\\ai stuffs\\project-1\\venv\\lib\\site-packages (from werkzeug>=1.0.1->tensorboard<2.12,>=2.11->tensorflow-intel==2.11.0; platform_system == \"Windows\"->tensorflow) (2.1.5)\n",
      "Requirement already satisfied: rsa<5,>=3.1.4 in e:\\file kerja\\work\\ai stuffs\\project-1\\venv\\lib\\site-packages (from google-auth<3,>=1.6.3->tensorboard<2.12,>=2.11->tensorflow-intel==2.11.0; platform_system == \"Windows\"->tensorflow) (4.9)\n",
      "Requirement already satisfied: cachetools<6.0,>=2.0.0 in e:\\file kerja\\work\\ai stuffs\\project-1\\venv\\lib\\site-packages (from google-auth<3,>=1.6.3->tensorboard<2.12,>=2.11->tensorflow-intel==2.11.0; platform_system == \"Windows\"->tensorflow) (5.5.1)\n",
      "Requirement already satisfied: pyasn1-modules>=0.2.1 in e:\\file kerja\\work\\ai stuffs\\project-1\\venv\\lib\\site-packages (from google-auth<3,>=1.6.3->tensorboard<2.12,>=2.11->tensorflow-intel==2.11.0; platform_system == \"Windows\"->tensorflow) (0.3.0)\n",
      "Requirement already satisfied: importlib-metadata>=4.4; python_version < \"3.10\" in e:\\file kerja\\work\\ai stuffs\\project-1\\venv\\lib\\site-packages (from markdown>=2.6.8->tensorboard<2.12,>=2.11->tensorflow-intel==2.11.0; platform_system == \"Windows\"->tensorflow) (6.7.0)\n",
      "Requirement already satisfied: oauthlib>=3.0.0 in e:\\file kerja\\work\\ai stuffs\\project-1\\venv\\lib\\site-packages (from requests-oauthlib>=0.7.0->google-auth-oauthlib<0.5,>=0.4.1->tensorboard<2.12,>=2.11->tensorflow-intel==2.11.0; platform_system == \"Windows\"->tensorflow) (3.2.2)\n",
      "Requirement already satisfied: pyasn1>=0.1.3 in e:\\file kerja\\work\\ai stuffs\\project-1\\venv\\lib\\site-packages (from rsa<5,>=3.1.4->google-auth<3,>=1.6.3->tensorboard<2.12,>=2.11->tensorflow-intel==2.11.0; platform_system == \"Windows\"->tensorflow) (0.5.1)\n",
      "Requirement already satisfied: zipp>=0.5 in e:\\file kerja\\work\\ai stuffs\\project-1\\venv\\lib\\site-packages (from importlib-metadata>=4.4; python_version < \"3.10\"->markdown>=2.6.8->tensorboard<2.12,>=2.11->tensorflow-intel==2.11.0; platform_system == \"Windows\"->tensorflow) (3.15.0)\n",
      "Installing collected packages: pytz, pandas\n",
      "Successfully installed pandas-1.3.5 pytz-2024.2\n"
     ]
    },
    {
     "name": "stderr",
     "output_type": "stream",
     "text": [
      "WARNING: You are using pip version 20.1.1; however, version 24.0 is available.\n",
      "You should consider upgrading via the 'e:\\file kerja\\work\\ai stuffs\\project-1\\venv\\scripts\\python.exe -m pip install --upgrade pip' command.\n"
     ]
    }
   ],
   "source": [
    "!pip install tensorflow matplotlib numpy pandas"
   ]
  },
  {
   "cell_type": "code",
   "execution_count": 12,
   "metadata": {},
   "outputs": [
    {
     "name": "stdout",
     "output_type": "stream",
     "text": [
      "2.11.0\n"
     ]
    }
   ],
   "source": [
    "import tensorflow as tf\n",
    "\n",
    "print(tf.version.VERSION)"
   ]
  },
  {
   "cell_type": "markdown",
   "metadata": {},
   "source": [
    "## Sentiment Analysis: Coffee Segmentation and Opinion\n",
    "\n",
    "### Preparation\n",
    "Preparation must be started by scrapping data trough social media such like twitter (X), Facebook, and Youtube Comments."
   ]
  },
  {
   "cell_type": "code",
   "execution_count": null,
   "metadata": {},
   "outputs": [],
   "source": []
  }
 ],
 "metadata": {
  "kernelspec": {
   "display_name": "sentiment-analysis",
   "language": "python",
   "name": "sentiment-analysis"
  },
  "language_info": {
   "codemirror_mode": {
    "name": "ipython",
    "version": 3
   },
   "file_extension": ".py",
   "mimetype": "text/x-python",
   "name": "python",
   "nbconvert_exporter": "python",
   "pygments_lexer": "ipython3",
   "version": "3.7.8"
  }
 },
 "nbformat": 4,
 "nbformat_minor": 2
}
