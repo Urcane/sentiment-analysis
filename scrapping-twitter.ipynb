{
 "cells": [
  {
   "cell_type": "code",
   "execution_count": 2,
   "metadata": {},
   "outputs": [
    {
     "name": "stdout",
     "output_type": "stream",
     "text": [
      "Requirement already satisfied: twikit in e:\\file kerja\\work\\ai stuffs\\project-1\\venv\\lib\\site-packages (2.3.3)\n",
      "Requirement already satisfied: httpx[socks] in e:\\file kerja\\work\\ai stuffs\\project-1\\venv\\lib\\site-packages (from twikit) (0.28.1)\n",
      "Requirement already satisfied: filetype in e:\\file kerja\\work\\ai stuffs\\project-1\\venv\\lib\\site-packages (from twikit) (1.2.0)\n",
      "Requirement already satisfied: beautifulsoup4 in e:\\file kerja\\work\\ai stuffs\\project-1\\venv\\lib\\site-packages (from twikit) (4.13.3)\n",
      "Requirement already satisfied: pyotp in e:\\file kerja\\work\\ai stuffs\\project-1\\venv\\lib\\site-packages (from twikit) (2.9.0)\n",
      "Requirement already satisfied: lxml in e:\\file kerja\\work\\ai stuffs\\project-1\\venv\\lib\\site-packages (from twikit) (5.3.0)\n",
      "Requirement already satisfied: webvtt-py in e:\\file kerja\\work\\ai stuffs\\project-1\\venv\\lib\\site-packages (from twikit) (0.5.1)\n",
      "Requirement already satisfied: m3u8 in e:\\file kerja\\work\\ai stuffs\\project-1\\venv\\lib\\site-packages (from twikit) (6.0.0)\n",
      "Requirement already satisfied: Js2Py-3.13 in e:\\file kerja\\work\\ai stuffs\\project-1\\venv\\lib\\site-packages (from twikit) (0.74.1)\n",
      "Requirement already satisfied: soupsieve>1.2 in e:\\file kerja\\work\\ai stuffs\\project-1\\venv\\lib\\site-packages (from beautifulsoup4->twikit) (2.6)\n",
      "Requirement already satisfied: typing-extensions>=4.0.0 in e:\\file kerja\\work\\ai stuffs\\project-1\\venv\\lib\\site-packages (from beautifulsoup4->twikit) (4.12.2)\n",
      "Requirement already satisfied: anyio in e:\\file kerja\\work\\ai stuffs\\project-1\\venv\\lib\\site-packages (from httpx[socks]->twikit) (4.8.0)\n",
      "Requirement already satisfied: certifi in e:\\file kerja\\work\\ai stuffs\\project-1\\venv\\lib\\site-packages (from httpx[socks]->twikit) (2025.1.31)\n",
      "Requirement already satisfied: httpcore==1.* in e:\\file kerja\\work\\ai stuffs\\project-1\\venv\\lib\\site-packages (from httpx[socks]->twikit) (1.0.7)\n",
      "Requirement already satisfied: idna in e:\\file kerja\\work\\ai stuffs\\project-1\\venv\\lib\\site-packages (from httpx[socks]->twikit) (3.10)\n",
      "Requirement already satisfied: socksio==1.* in e:\\file kerja\\work\\ai stuffs\\project-1\\venv\\lib\\site-packages (from httpx[socks]->twikit) (1.0.0)\n",
      "Requirement already satisfied: h11<0.15,>=0.13 in e:\\file kerja\\work\\ai stuffs\\project-1\\venv\\lib\\site-packages (from httpcore==1.*->httpx[socks]->twikit) (0.14.0)\n",
      "Requirement already satisfied: tzlocal>=1.2 in e:\\file kerja\\work\\ai stuffs\\project-1\\venv\\lib\\site-packages (from Js2Py-3.13->twikit) (5.2)\n",
      "Requirement already satisfied: six>=1.10 in e:\\file kerja\\work\\ai stuffs\\project-1\\venv\\lib\\site-packages (from Js2Py-3.13->twikit) (1.17.0)\n",
      "Requirement already satisfied: pyjsparser>=2.5.1 in e:\\file kerja\\work\\ai stuffs\\project-1\\venv\\lib\\site-packages (from Js2Py-3.13->twikit) (2.7.1)\n",
      "Requirement already satisfied: tzdata in e:\\file kerja\\work\\ai stuffs\\project-1\\venv\\lib\\site-packages (from tzlocal>=1.2->Js2Py-3.13->twikit) (2025.1)\n",
      "Requirement already satisfied: sniffio>=1.1 in e:\\file kerja\\work\\ai stuffs\\project-1\\venv\\lib\\site-packages (from anyio->httpx[socks]->twikit) (1.3.1)\n"
     ]
    },
    {
     "name": "stderr",
     "output_type": "stream",
     "text": [
      "\n",
      "[notice] A new release of pip is available: 24.3.1 -> 25.0\n",
      "[notice] To update, run: python.exe -m pip install --upgrade pip\n"
     ]
    }
   ],
   "source": [
    "!pip install twikit"
   ]
  },
  {
   "cell_type": "code",
   "execution_count": 19,
   "metadata": {},
   "outputs": [],
   "source": [
    "USERNAME = \"VyuLeny\"\n",
    "EMAIL = \"vyuleni4@gmail.com\"\n",
    "PASSWORD = 'vyulenimantap123'"
   ]
  },
  {
   "cell_type": "code",
   "execution_count": 25,
   "metadata": {},
   "outputs": [],
   "source": [
    "import asyncio\n",
    "from twikit import Client\n",
    "import csv\n",
    "\n",
    "client = Client(language='')\n",
    "is_logged_in = False\n",
    "\n",
    "async def twikitExec(filename, keywords, count, type): \n",
    "    global is_logged_in\n",
    "\n",
    "    if not is_logged_in:\n",
    "        await client.login(\n",
    "            auth_info_1=USERNAME,\n",
    "            auth_info_2=EMAIL,\n",
    "            password=PASSWORD,\n",
    "            cookies_file='cookies.json'\n",
    "        )\n",
    "        is_logged_in = True \n",
    "\n",
    "    query = \" OR \".join(f'\"{keyword}\"' for keyword in keywords) + \" lang:id\"\n",
    "    print(f'searching: {query}')\n",
    "\n",
    "    csv_data = []\n",
    "    fetched_ids = set()\n",
    "    counted = 0\n",
    "    isMoreThan20 = count > 20\n",
    "\n",
    "    tweets = await client.search_tweet(query, type)\n",
    "    for tweet in tweets:\n",
    "        if tweet.id not in fetched_ids: \n",
    "            tweet_text = tweet.text.replace('\\n', ' ')\n",
    "            csv_data.append({\n",
    "                'tweet_id': tweet.id,\n",
    "                'username': tweet.user.screen_name,\n",
    "                'text': tweet_text,\n",
    "                'date': tweet.created_at\n",
    "            })\n",
    "            fetched_ids.add(tweet.id)\n",
    "            counted += 1 \n",
    "\n",
    "            if counted >= count:\n",
    "                break\n",
    "\n",
    "    while isMoreThan20 and (counted < count):\n",
    "        try:\n",
    "            if hasattr(tweets, 'next'):\n",
    "                tweets = await tweets.next()\n",
    "            else:\n",
    "                break\n",
    "\n",
    "            for tweet in tweets:\n",
    "                if tweet.id not in fetched_ids: \n",
    "                    tweet_text = tweet.text.replace('\\n', ' ')\n",
    "                    csv_data.append({\n",
    "                        'tweet_id': tweet.id,\n",
    "                        'username': tweet.user.screen_name,\n",
    "                        'text': tweet_text,\n",
    "                        'date': tweet.created_at\n",
    "                    })\n",
    "                    fetched_ids.add(tweet.id)\n",
    "                    counted += 1 \n",
    "\n",
    "                    if counted >= count:\n",
    "                        break\n",
    "                    \n",
    "            await asyncio.sleep(1)\n",
    "\n",
    "        except Exception as e:\n",
    "            if \"429\" in str(e):\n",
    "                print(\"Rate limit exceeded. Waiting before retrying...\")\n",
    "                await asyncio.sleep(60)  # Wait for 60 seconds before retrying\n",
    "            else:\n",
    "                print(f\"An error occurred: {e}\")\n",
    "                break\n",
    "\n",
    "    csv_filename = f'{filename}.csv'\n",
    "\n",
    "    with open(csv_filename, mode='w', newline='', encoding='utf-8') as file:\n",
    "        writer = csv.DictWriter(file, fieldnames=['tweet_id', 'username', 'text', 'date'], delimiter=';', quoting=csv.QUOTE_MINIMAL)\n",
    "        writer.writeheader()\n",
    "        writer.writerows(csv_data)\n",
    "\n",
    "    print(f'Tweets have been saved to {csv_filename}')"
   ]
  },
  {
   "cell_type": "code",
   "execution_count": 27,
   "metadata": {},
   "outputs": [
    {
     "name": "stdout",
     "output_type": "stream",
     "text": [
      "searching: \"kopi enak\" OR \"kopi gaenak\" OR \"kopi terbaik\" OR \"pengalaman minum kopi\" OR \"rasa kopi\" OR \"kopi\" OR \"ulasan kopi\" OR \"review kopi\" OR \"rasa kopi\" OR \"kopi favorit\" lang:id\n"
     ]
    },
    {
     "ename": "Unauthorized",
     "evalue": "status: 401, message: \"{\"errors\":[{\"message\":\"Could not authenticate you\",\"code\":32}]}\n\"",
     "output_type": "error",
     "traceback": [
      "\u001b[1;31m---------------------------------------------------------------------------\u001b[0m",
      "\u001b[1;31mUnauthorized\u001b[0m                              Traceback (most recent call last)",
      "Cell \u001b[1;32mIn[27], line 6\u001b[0m\n\u001b[0;32m      3\u001b[0m keywords \u001b[38;5;241m=\u001b[39m [\u001b[38;5;124m\"\u001b[39m\u001b[38;5;124mkopi enak\u001b[39m\u001b[38;5;124m\"\u001b[39m, \u001b[38;5;124m\"\u001b[39m\u001b[38;5;124mkopi gaenak\u001b[39m\u001b[38;5;124m\"\u001b[39m, \u001b[38;5;124m\"\u001b[39m\u001b[38;5;124mkopi terbaik\u001b[39m\u001b[38;5;124m\"\u001b[39m, \u001b[38;5;124m\"\u001b[39m\u001b[38;5;124mpengalaman minum kopi\u001b[39m\u001b[38;5;124m\"\u001b[39m, \u001b[38;5;124m\"\u001b[39m\u001b[38;5;124mrasa kopi\u001b[39m\u001b[38;5;124m\"\u001b[39m, \u001b[38;5;124m\"\u001b[39m\u001b[38;5;124mkopi\u001b[39m\u001b[38;5;124m\"\u001b[39m, \u001b[38;5;124m\"\u001b[39m\u001b[38;5;124mulasan kopi\u001b[39m\u001b[38;5;124m\"\u001b[39m, \u001b[38;5;124m\"\u001b[39m\u001b[38;5;124mreview kopi\u001b[39m\u001b[38;5;124m\"\u001b[39m, \u001b[38;5;124m\"\u001b[39m\u001b[38;5;124mrasa kopi\u001b[39m\u001b[38;5;124m\"\u001b[39m, \u001b[38;5;124m\"\u001b[39m\u001b[38;5;124mkopi favorit\u001b[39m\u001b[38;5;124m\"\u001b[39m]\n\u001b[0;32m      4\u001b[0m filename \u001b[38;5;241m=\u001b[39m \u001b[38;5;124mf\u001b[39m\u001b[38;5;124m'\u001b[39m\u001b[38;5;124mtweets_\u001b[39m\u001b[38;5;132;01m{\u001b[39;00mdatetime\u001b[38;5;241m.\u001b[39mnow()\u001b[38;5;241m.\u001b[39mstrftime(\u001b[38;5;124m\"\u001b[39m\u001b[38;5;124m%\u001b[39m\u001b[38;5;124mY\u001b[39m\u001b[38;5;124m%\u001b[39m\u001b[38;5;124mm\u001b[39m\u001b[38;5;132;01m%d\u001b[39;00m\u001b[38;5;124m%\u001b[39m\u001b[38;5;124mH\u001b[39m\u001b[38;5;124m%\u001b[39m\u001b[38;5;124mM\u001b[39m\u001b[38;5;124m%\u001b[39m\u001b[38;5;124mS\u001b[39m\u001b[38;5;124m\"\u001b[39m)\u001b[38;5;132;01m}\u001b[39;00m\u001b[38;5;124m'\u001b[39m\n\u001b[1;32m----> 6\u001b[0m \u001b[38;5;28;01mawait\u001b[39;00m twikitExec(filename\u001b[38;5;241m=\u001b[39mfilename, keywords\u001b[38;5;241m=\u001b[39mkeywords, count\u001b[38;5;241m=\u001b[39m\u001b[38;5;241m5500\u001b[39m, \u001b[38;5;28mtype\u001b[39m\u001b[38;5;241m=\u001b[39m\u001b[38;5;124m'\u001b[39m\u001b[38;5;124mLatest\u001b[39m\u001b[38;5;124m'\u001b[39m)\n",
      "Cell \u001b[1;32mIn[25], line 28\u001b[0m, in \u001b[0;36mtwikitExec\u001b[1;34m(filename, keywords, count, type)\u001b[0m\n\u001b[0;32m     25\u001b[0m counted \u001b[38;5;241m=\u001b[39m \u001b[38;5;241m0\u001b[39m\n\u001b[0;32m     26\u001b[0m isMoreThan20 \u001b[38;5;241m=\u001b[39m count \u001b[38;5;241m>\u001b[39m \u001b[38;5;241m20\u001b[39m\n\u001b[1;32m---> 28\u001b[0m tweets \u001b[38;5;241m=\u001b[39m \u001b[38;5;28;01mawait\u001b[39;00m client\u001b[38;5;241m.\u001b[39msearch_tweet(query, \u001b[38;5;28mtype\u001b[39m)\n\u001b[0;32m     29\u001b[0m \u001b[38;5;28;01mfor\u001b[39;00m tweet \u001b[38;5;129;01min\u001b[39;00m tweets:\n\u001b[0;32m     30\u001b[0m     \u001b[38;5;28;01mif\u001b[39;00m tweet\u001b[38;5;241m.\u001b[39mid \u001b[38;5;129;01mnot\u001b[39;00m \u001b[38;5;129;01min\u001b[39;00m fetched_ids: \n",
      "File \u001b[1;32me:\\File Kerja\\work\\ai stuffs\\Project-1\\venv\\Lib\\site-packages\\twikit\\client\\client.py:731\u001b[0m, in \u001b[0;36mClient.search_tweet\u001b[1;34m(self, query, product, count, cursor)\u001b[0m\n\u001b[0;32m    687\u001b[0m \u001b[38;5;250m\u001b[39m\u001b[38;5;124;03m\"\"\"\u001b[39;00m\n\u001b[0;32m    688\u001b[0m \u001b[38;5;124;03mSearches for tweets based on the specified query and\u001b[39;00m\n\u001b[0;32m    689\u001b[0m \u001b[38;5;124;03mproduct type.\u001b[39;00m\n\u001b[1;32m   (...)\u001b[0m\n\u001b[0;32m    727\u001b[0m \u001b[38;5;124;03m>>> previous_tweets = await tweets.previous()\u001b[39;00m\n\u001b[0;32m    728\u001b[0m \u001b[38;5;124;03m\"\"\"\u001b[39;00m\n\u001b[0;32m    729\u001b[0m product \u001b[38;5;241m=\u001b[39m product\u001b[38;5;241m.\u001b[39mcapitalize()\n\u001b[1;32m--> 731\u001b[0m response, _ \u001b[38;5;241m=\u001b[39m \u001b[38;5;28;01mawait\u001b[39;00m \u001b[38;5;28mself\u001b[39m\u001b[38;5;241m.\u001b[39mgql\u001b[38;5;241m.\u001b[39msearch_timeline(query, product, count, cursor)\n\u001b[0;32m    732\u001b[0m instructions \u001b[38;5;241m=\u001b[39m find_dict(response, \u001b[38;5;124m'\u001b[39m\u001b[38;5;124minstructions\u001b[39m\u001b[38;5;124m'\u001b[39m, find_one\u001b[38;5;241m=\u001b[39m\u001b[38;5;28;01mTrue\u001b[39;00m)\n\u001b[0;32m    733\u001b[0m \u001b[38;5;28;01mif\u001b[39;00m \u001b[38;5;129;01mnot\u001b[39;00m instructions:\n",
      "File \u001b[1;32me:\\File Kerja\\work\\ai stuffs\\Project-1\\venv\\Lib\\site-packages\\twikit\\client\\gql.py:159\u001b[0m, in \u001b[0;36mGQLClient.search_timeline\u001b[1;34m(self, query, product, count, cursor)\u001b[0m\n\u001b[0;32m    157\u001b[0m \u001b[38;5;28;01mif\u001b[39;00m cursor \u001b[38;5;129;01mis\u001b[39;00m \u001b[38;5;129;01mnot\u001b[39;00m \u001b[38;5;28;01mNone\u001b[39;00m:\n\u001b[0;32m    158\u001b[0m     variables[\u001b[38;5;124m'\u001b[39m\u001b[38;5;124mcursor\u001b[39m\u001b[38;5;124m'\u001b[39m] \u001b[38;5;241m=\u001b[39m cursor\n\u001b[1;32m--> 159\u001b[0m \u001b[38;5;28;01mreturn\u001b[39;00m \u001b[38;5;28;01mawait\u001b[39;00m \u001b[38;5;28mself\u001b[39m\u001b[38;5;241m.\u001b[39mgql_get(Endpoint\u001b[38;5;241m.\u001b[39mSEARCH_TIMELINE, variables, FEATURES)\n",
      "File \u001b[1;32me:\\File Kerja\\work\\ai stuffs\\Project-1\\venv\\Lib\\site-packages\\twikit\\client\\gql.py:124\u001b[0m, in \u001b[0;36mGQLClient.gql_get\u001b[1;34m(self, url, variables, features, headers, extra_params, **kwargs)\u001b[0m\n\u001b[0;32m    122\u001b[0m \u001b[38;5;28;01mif\u001b[39;00m headers \u001b[38;5;129;01mis\u001b[39;00m \u001b[38;5;28;01mNone\u001b[39;00m:\n\u001b[0;32m    123\u001b[0m     headers \u001b[38;5;241m=\u001b[39m \u001b[38;5;28mself\u001b[39m\u001b[38;5;241m.\u001b[39mbase\u001b[38;5;241m.\u001b[39m_base_headers\n\u001b[1;32m--> 124\u001b[0m \u001b[38;5;28;01mreturn\u001b[39;00m \u001b[38;5;28;01mawait\u001b[39;00m \u001b[38;5;28mself\u001b[39m\u001b[38;5;241m.\u001b[39mbase\u001b[38;5;241m.\u001b[39mget(url, params\u001b[38;5;241m=\u001b[39mflatten_params(params), headers\u001b[38;5;241m=\u001b[39mheaders, \u001b[38;5;241m*\u001b[39m\u001b[38;5;241m*\u001b[39mkwargs)\n",
      "File \u001b[1;32me:\\File Kerja\\work\\ai stuffs\\Project-1\\venv\\Lib\\site-packages\\twikit\\client\\client.py:211\u001b[0m, in \u001b[0;36mClient.get\u001b[1;34m(self, url, **kwargs)\u001b[0m\n\u001b[0;32m    209\u001b[0m \u001b[38;5;28;01masync\u001b[39;00m \u001b[38;5;28;01mdef\u001b[39;00m\u001b[38;5;250m \u001b[39m\u001b[38;5;21mget\u001b[39m(\u001b[38;5;28mself\u001b[39m, url, \u001b[38;5;241m*\u001b[39m\u001b[38;5;241m*\u001b[39mkwargs) \u001b[38;5;241m-\u001b[39m\u001b[38;5;241m>\u001b[39m \u001b[38;5;28mtuple\u001b[39m[\u001b[38;5;28mdict\u001b[39m \u001b[38;5;241m|\u001b[39m Any, Response]:\n\u001b[0;32m    210\u001b[0m     \u001b[38;5;124m'\u001b[39m\u001b[38;5;124m:meta private:\u001b[39m\u001b[38;5;124m'\u001b[39m\n\u001b[1;32m--> 211\u001b[0m     \u001b[38;5;28;01mreturn\u001b[39;00m \u001b[38;5;28;01mawait\u001b[39;00m \u001b[38;5;28mself\u001b[39m\u001b[38;5;241m.\u001b[39mrequest(\u001b[38;5;124m'\u001b[39m\u001b[38;5;124mGET\u001b[39m\u001b[38;5;124m'\u001b[39m, url, \u001b[38;5;241m*\u001b[39m\u001b[38;5;241m*\u001b[39mkwargs)\n",
      "File \u001b[1;32me:\\File Kerja\\work\\ai stuffs\\Project-1\\venv\\Lib\\site-packages\\twikit\\client\\client.py:188\u001b[0m, in \u001b[0;36mClient.request\u001b[1;34m(self, method, url, auto_unlock, raise_exception, **kwargs)\u001b[0m\n\u001b[0;32m    186\u001b[0m     \u001b[38;5;28;01mraise\u001b[39;00m BadRequest(message, headers\u001b[38;5;241m=\u001b[39mresponse\u001b[38;5;241m.\u001b[39mheaders)\n\u001b[0;32m    187\u001b[0m \u001b[38;5;28;01melif\u001b[39;00m status_code \u001b[38;5;241m==\u001b[39m \u001b[38;5;241m401\u001b[39m:\n\u001b[1;32m--> 188\u001b[0m     \u001b[38;5;28;01mraise\u001b[39;00m Unauthorized(message, headers\u001b[38;5;241m=\u001b[39mresponse\u001b[38;5;241m.\u001b[39mheaders)\n\u001b[0;32m    189\u001b[0m \u001b[38;5;28;01melif\u001b[39;00m status_code \u001b[38;5;241m==\u001b[39m \u001b[38;5;241m403\u001b[39m:\n\u001b[0;32m    190\u001b[0m     \u001b[38;5;28;01mraise\u001b[39;00m Forbidden(message, headers\u001b[38;5;241m=\u001b[39mresponse\u001b[38;5;241m.\u001b[39mheaders)\n",
      "\u001b[1;31mUnauthorized\u001b[0m: status: 401, message: \"{\"errors\":[{\"message\":\"Could not authenticate you\",\"code\":32}]}\n\""
     ]
    }
   ],
   "source": [
    "from datetime import datetime\n",
    "\n",
    "keywords = [\"kopi enak\", \"kopi gaenak\", \"kopi terbaik\", \"pengalaman minum kopi\", \"rasa kopi\", \"kopi\", \"ulasan kopi\", \"review kopi\", \"rasa kopi\", \"kopi favorit\"]\n",
    "filename = f'tweets_{datetime.now().strftime(\"%Y%m%d%H%M%S\")}'\n",
    "\n",
    "await twikitExec(filename=filename, keywords=keywords, count=5500, type='Latest')\n"
   ]
  },
  {
   "cell_type": "code",
   "execution_count": null,
   "metadata": {},
   "outputs": [],
   "source": []
  }
 ],
 "metadata": {
  "kernelspec": {
   "display_name": "sentiment-analysis",
   "language": "python",
   "name": "sentiment-analysis"
  },
  "language_info": {
   "codemirror_mode": {
    "name": "ipython",
    "version": 3
   },
   "file_extension": ".py",
   "mimetype": "text/x-python",
   "name": "python",
   "nbconvert_exporter": "python",
   "pygments_lexer": "ipython3",
   "version": "3.13.2"
  }
 },
 "nbformat": 4,
 "nbformat_minor": 2
}
